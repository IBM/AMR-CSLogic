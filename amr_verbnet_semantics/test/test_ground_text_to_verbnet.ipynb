{
 "cells": [
  {
   "cell_type": "code",
   "execution_count": 2,
   "metadata": {},
   "outputs": [
    {
     "name": "stdout",
     "output_type": "stream",
     "text": [
      "parsing ...\n",
      "Loading StanfordCoreNLP models ...\n",
      "Models created ...\n",
      "\n",
      "text:\n",
      " The dresser is made out of maple carefully finished with Danish oil.\n",
      "\n",
      "sentences:\n",
      "==> The dresser is made out of maple carefully finished with Danish oil.\n",
      "\n",
      "coreference:\n",
      " []\n",
      "\n",
      "ori_amr_cal: [make-01(m), dresser(d), maple(m2), finish-01(f), oil(o), country(c2), name(n), careful(c), make-01.arg1(m, d), make-01.arg2(m, m2), finish-01.arg1(f, m2), finish-01.arg2(f, o), mod(o, c2), name(c2, n), manner(f, c)]\n",
      "arg_map: {'make.01': {'m': {':ARG1': 'd', ':ARG2': 'm2'}}, 'finish.01': {'f': {':ARG1': 'm2', ':ARG2': 'o', ':manner': 'c'}}, 'oil': {'o': {':mod': 'c2'}}, 'country': {'c2': {':name': 'n'}}}\n",
      "query_propbank_roles for propbank_id make.01\n",
      "query_propbank_roles for propbank_id finish.01\n",
      "role_mappings: {'make.01': {':ARG0': [{'vncls': '26.1-1', 'vntheta': 'agent', 'description': 'creator'}], ':ARG1': [{'vncls': '26.1-1', 'vntheta': 'product', 'description': 'creation'}], ':ARG2': [{'vncls': '26.1-1', 'vntheta': 'material', 'description': 'created-from, thing changed'}], ':ARG3': [{'vncls': '26.1-1', 'vntheta': 'beneficiary', 'description': 'benefactive'}]}, 'finish.01': {':ARG0': [{'vncls': '55.4-1', 'vntheta': 'agent', 'description': 'Intentional agent'}], ':ARG1': [{'vncls': '55.4-1', 'vntheta': 'theme', 'description': 'Thing finishing'}]}}\n",
      "\n",
      "amr_cal: [make-01(m), dresser(d), maple(m2), finish-01(f), oil(o), country(c2), name(n), careful(c), make-01.arg1(m, d), make-01.arg2(m, m2), finish-01.arg1(f, m2), finish-01.arg2(f, o), mod(o, c2), name(c2, n), manner(f, c)]\n",
      "\n",
      "sem_cal: {'make.01': {'build-26.1-1': [NOT(BE(Product, e1)), DO(e2, Agent), BE(e3, Product), MADE_OF(e3, Product, Material), CAUSE(e2, e3), COST(E, Product, Asset)]}, 'finish.01': {'stop-55.4-1-1': [DO(e1, Agent), CAUSE(e2, e1), END(E, Theme)]}}\n",
      "\n",
      "grounded_stmt: {'make.01': {'build-26.1-1': [[NOT(BE(d, e1)), DO(e2, Agent), BE(e3, d), MADE_OF(e3, d, m2), CAUSE(e2, e3), COST(E, d, Asset)]]}, 'finish.01': {'stop-55.4-1-1': [[DO(e1, Agent), CAUSE(e2, e1), END(E, m2)]]}}\n",
      "finish with 36.491 seconds\n"
     ]
    }
   ],
   "source": [
    "import time\n",
    "from amr_verbnet_semantics.core.amr_verbnet_enhance import ground_text_to_verbnet\n",
    "\n",
    "start = time.time()\n",
    "ret = ground_text_to_verbnet(\"The dresser is made out of maple carefully finished with Danish oil.\")\n",
    "print(f'finish with {time.time()-start:.3f} seconds')"
   ]
  },
  {
   "cell_type": "code",
   "execution_count": 3,
   "metadata": {},
   "outputs": [
    {
     "name": "stdout",
     "output_type": "stream",
     "text": [
      "parsing ...\n",
      "\n",
      "text:\n",
      " The dresser is made out of maple carefully finished with Danish oil.\n",
      "\n",
      "sentences:\n",
      "==> The dresser is made out of maple carefully finished with Danish oil.\n",
      "\n",
      "coreference:\n",
      " []\n",
      "\n",
      "ori_amr_cal: [make-01(m), dresser(d), maple(m2), finish-01(f), oil(o), country(c2), name(n), careful(c), make-01.arg1(m, d), make-01.arg2(m, m2), finish-01.arg1(f, m2), finish-01.arg2(f, o), mod(o, c2), name(c2, n), manner(f, c)]\n",
      "arg_map: {'make.01': {'m': {':ARG1': 'd', ':ARG2': 'm2'}}, 'finish.01': {'f': {':ARG1': 'm2', ':ARG2': 'o', ':manner': 'c'}}, 'oil': {'o': {':mod': 'c2'}}, 'country': {'c2': {':name': 'n'}}}\n",
      "query_propbank_roles for propbank_id make.01\n",
      "query_propbank_roles for propbank_id finish.01\n",
      "role_mappings: {'make.01': {':ARG0': [{'vncls': '26.1-1', 'vntheta': 'agent', 'description': 'creator'}], ':ARG1': [{'vncls': '26.1-1', 'vntheta': 'product', 'description': 'creation'}], ':ARG2': [{'vncls': '26.1-1', 'vntheta': 'material', 'description': 'created-from, thing changed'}], ':ARG3': [{'vncls': '26.1-1', 'vntheta': 'beneficiary', 'description': 'benefactive'}]}, 'finish.01': {':ARG0': [{'vncls': '55.4-1', 'vntheta': 'agent', 'description': 'Intentional agent'}], ':ARG1': [{'vncls': '55.4-1', 'vntheta': 'theme', 'description': 'Thing finishing'}]}}\n",
      "\n",
      "amr_cal: [make-01(m), dresser(d), maple(m2), finish-01(f), oil(o), country(c2), name(n), careful(c), make-01.arg1(m, d), make-01.arg2(m, m2), finish-01.arg1(f, m2), finish-01.arg2(f, o), mod(o, c2), name(c2, n), manner(f, c)]\n",
      "\n",
      "sem_cal: {'make.01': {'build-26.1-1': [NOT(BE(Product, e1)), DO(e2, Agent), BE(e3, Product), MADE_OF(e3, Product, Material), CAUSE(e2, e3), COST(E, Product, Asset)]}, 'finish.01': {'stop-55.4-1-1': [DO(e1, Agent), CAUSE(e2, e1), END(E, Theme)]}}\n",
      "\n",
      "grounded_stmt: {'make.01': {'build-26.1-1': [[NOT(BE(d, e1)), DO(e2, Agent), BE(e3, d), MADE_OF(e3, d, m2), CAUSE(e2, e3), COST(E, d, Asset)]]}, 'finish.01': {'stop-55.4-1-1': [[DO(e1, Agent), CAUSE(e2, e1), END(E, m2)]]}}\n",
      "finish with 1.138 seconds\n",
      "******************************\n",
      "{'coreference': [], 'sentence_parses': [{'text': 'The dresser is made out of maple carefully finished with Danish oil.', 'amr': '# ::tok The dresser is made out of maple carefully finished with Danish oil . <ROOT>\\n# ::node\\t1\\tdresser\\t1-2\\n# ::node\\t2\\tmake-01\\t3-4\\n# ::node\\t3\\tmaple\\t6-7\\n# ::node\\t4\\tcareful\\t7-8\\n# ::node\\t5\\tfinish-01\\t8-9\\n# ::node\\t6\\tcountry\\t10-11\\n# ::node\\t8\\toil\\t11-12\\n# ::node\\t9\\t\"Denmark\"\\t10-11\\n# ::node\\t11\\tname\\t10-11\\n# ::root\\t2\\tmake-01\\n# ::edge\\tmake-01\\tARG1\\tdresser\\t2\\t1\\t\\n# ::edge\\tmake-01\\tARG2\\tmaple\\t2\\t3\\t\\n# ::edge\\tfinish-01\\tmanner\\tcareful\\t5\\t4\\t\\n# ::edge\\tmaple\\tARG1-of\\tfinish-01\\t3\\t5\\t\\n# ::edge\\toil\\tmod\\tcountry\\t8\\t6\\t\\n# ::edge\\tfinish-01\\tARG2\\toil\\t5\\t8\\t\\n# ::edge\\tcountry\\tname\\tname\\t6\\t11\\t\\n# ::edge\\tname\\top1\\t\"Denmark\"\\t11\\t9\\t\\n# ::short\\t{1: \\'d\\', 2: \\'m\\', 3: \\'m2\\', 4: \\'c\\', 5: \\'f\\', 6: \\'c2\\', 8: \\'o\\', 9: \\'x0\\', 11: \\'n\\'}\\t\\n(m / make-01\\n      :ARG1 (d / dresser)\\n      :ARG2 (m2 / maple\\n            :ARG1-of (f / finish-01\\n                  :ARG2 (o / oil\\n                        :mod (c2 / country\\n                              :name (n / name\\n                                    :op1 \"Denmark\")))\\n                  :manner (c / careful))))\\n\\n', 'pb_vn_mappings': {'make.01': [{'mapping': 'build-26.1-1', 'source': 'verbnet3.4'}], 'finish.01': [{'mapping': 'stop-55.4-1-1', 'source': 'verbnet3.4'}]}, 'role_mappings': {'make.01': {':ARG0': [{'vncls': '26.1-1', 'vntheta': 'agent', 'description': 'creator'}], ':ARG1': [{'vncls': '26.1-1', 'vntheta': 'product', 'description': 'creation'}], ':ARG2': [{'vncls': '26.1-1', 'vntheta': 'material', 'description': 'created-from, thing changed'}], ':ARG3': [{'vncls': '26.1-1', 'vntheta': 'beneficiary', 'description': 'benefactive'}]}, 'finish.01': {':ARG0': [{'vncls': '55.4-1', 'vntheta': 'agent', 'description': 'Intentional agent'}], ':ARG1': [{'vncls': '55.4-1', 'vntheta': 'theme', 'description': 'Thing finishing'}]}}, 'amr_cal': [{'predicate': 'make-01', 'arguments': ['m'], 'is_negative': False}, {'predicate': 'dresser', 'arguments': ['d'], 'is_negative': False}, {'predicate': 'maple', 'arguments': ['m2'], 'is_negative': False}, {'predicate': 'finish-01', 'arguments': ['f'], 'is_negative': False}, {'predicate': 'oil', 'arguments': ['o'], 'is_negative': False}, {'predicate': 'country', 'arguments': ['c2'], 'is_negative': False}, {'predicate': 'name', 'arguments': ['n'], 'is_negative': False}, {'predicate': 'careful', 'arguments': ['c'], 'is_negative': False}, {'predicate': 'make-01.arg1', 'arguments': ['m', 'd'], 'is_negative': False}, {'predicate': 'make-01.arg2', 'arguments': ['m', 'm2'], 'is_negative': False}, {'predicate': 'finish-01.arg1', 'arguments': ['f', 'm2'], 'is_negative': False}, {'predicate': 'finish-01.arg2', 'arguments': ['f', 'o'], 'is_negative': False}, {'predicate': 'mod', 'arguments': ['o', 'c2'], 'is_negative': False}, {'predicate': 'name', 'arguments': ['c2', 'n'], 'is_negative': False}, {'predicate': 'manner', 'arguments': ['f', 'c'], 'is_negative': False}], 'sem_cal': {'make.01': {'build-26.1-1': [{'predicate': 'BE', 'arguments': ['Product', 'e1'], 'is_negative': True}, {'predicate': 'DO', 'arguments': ['e2', 'Agent'], 'is_negative': False}, {'predicate': 'BE', 'arguments': ['e3', 'Product'], 'is_negative': False}, {'predicate': 'MADE_OF', 'arguments': ['e3', 'Product', 'Material'], 'is_negative': False}, {'predicate': 'CAUSE', 'arguments': ['e2', 'e3'], 'is_negative': False}, {'predicate': 'COST', 'arguments': ['E', 'Product', 'Asset'], 'is_negative': False}]}, 'finish.01': {'stop-55.4-1-1': [{'predicate': 'DO', 'arguments': ['e1', 'Agent'], 'is_negative': False}, {'predicate': 'CAUSE', 'arguments': ['e2', 'e1'], 'is_negative': False}, {'predicate': 'END', 'arguments': ['E', 'Theme'], 'is_negative': False}]}}, 'grounded_stmt': {'make.01': {'build-26.1-1': [[{'predicate': 'BE', 'arguments': ['d', 'e1'], 'is_negative': True}, {'predicate': 'DO', 'arguments': ['e2', 'Agent'], 'is_negative': False}, {'predicate': 'BE', 'arguments': ['e3', 'd'], 'is_negative': False}, {'predicate': 'MADE_OF', 'arguments': ['e3', 'd', 'm2'], 'is_negative': False}, {'predicate': 'CAUSE', 'arguments': ['e2', 'e3'], 'is_negative': False}, {'predicate': 'COST', 'arguments': ['E', 'd', 'Asset'], 'is_negative': False}]]}, 'finish.01': {'stop-55.4-1-1': [[{'predicate': 'DO', 'arguments': ['e1', 'Agent'], 'is_negative': False}, {'predicate': 'CAUSE', 'arguments': ['e2', 'e1'], 'is_negative': False}, {'predicate': 'END', 'arguments': ['E', 'm2'], 'is_negative': False}]]}}, 'amr_cal_str': '[make-01(m), dresser(d), maple(m2), finish-01(f), oil(o), country(c2), name(n), careful(c), make-01.arg1(m, d), make-01.arg2(m, m2), finish-01.arg1(f, m2), finish-01.arg2(f, o), mod(o, c2), name(c2, n), manner(f, c)]', 'sem_cal_str': \"{'make.01': {'build-26.1-1': [NOT(BE(Product, e1)), DO(e2, Agent), BE(e3, Product), MADE_OF(e3, Product, Material), CAUSE(e2, e3), COST(E, Product, Asset)]}, 'finish.01': {'stop-55.4-1-1': [DO(e1, Agent), CAUSE(e2, e1), END(E, Theme)]}}\", 'grounded_stmt_str': \"{'make.01': {'build-26.1-1': [[NOT(BE(d, e1)), DO(e2, Agent), BE(e3, d), MADE_OF(e3, d, m2), CAUSE(e2, e3), COST(E, d, Asset)]]}, 'finish.01': {'stop-55.4-1-1': [[DO(e1, Agent), CAUSE(e2, e1), END(E, m2)]]}}\"}]}\n"
     ]
    }
   ],
   "source": [
    "start = time.time()\n",
    "ret = ground_text_to_verbnet(\"The dresser is made out of maple carefully finished with Danish oil.\")\n",
    "print(f'finish with {time.time()-start:.3f} seconds')\n",
    "\n",
    "print('***' * 10)\n",
    "print(ret)"
   ]
  },
  {
   "cell_type": "code",
   "execution_count": 4,
   "metadata": {},
   "outputs": [
    {
     "name": "stdout",
     "output_type": "stream",
     "text": [
      "parsing ...\n",
      "\n",
      "text:\n",
      " You enter a kitchen.\n",
      "\n",
      "sentences:\n",
      "==> You enter a kitchen.\n",
      "\n",
      "coreference:\n",
      " []\n",
      "\n",
      "ori_amr_cal: [enter-01(e), you(y), kitchen(k), enter-01.arg0(e, y), enter-01.arg1(e, k)]\n",
      "arg_map: {'enter.01': {'e': {':ARG0': 'y', ':ARG1': 'k'}}}\n",
      "query_propbank_roles for propbank_id enter.01\n",
      "role_mappings: {'enter.01': {':ARG0': [{'vncls': '51.1-2', 'vntheta': 'theme', 'description': 'entity entering'}], ':ARG1': [{'vncls': '51.1-2', 'vntheta': 'destination', 'description': 'place or thing entered'}]}}\n",
      "\n",
      "amr_cal: [enter-01(e), you(y), kitchen(k), enter-01.arg0(e, y), enter-01.arg1(e, k)]\n",
      "\n",
      "sem_cal: {'enter.01': {'escape-51.1-1-2': [HAS_LOCATION(e1, Theme, ?Initial_Location), MOTION(ë2, Theme, ?Trajectory), NOT(HAS_LOCATION(e2, Theme, ?Initial_Location)), HAS_LOCATION(e3, Theme, Destination)]}}\n",
      "\n",
      "grounded_stmt: {'enter.01': {'escape-51.1-1-2': [[HAS_LOCATION(e1, y, ?Initial_Location), MOTION(ë2, y, ?Trajectory), NOT(HAS_LOCATION(e2, y, ?Initial_Location)), HAS_LOCATION(e3, y, k)]]}}\n",
      "finish with 0.618 seconds\n",
      "******************************\n",
      "{'coreference': [], 'sentence_parses': [{'text': 'You enter a kitchen.', 'amr': \"# ::tok You enter a kitchen . <ROOT>\\n# ::node\\t1\\tyou\\t0-1\\n# ::node\\t2\\tenter-01\\t1-2\\n# ::node\\t3\\tkitchen\\t3-4\\n# ::root\\t2\\tenter-01\\n# ::edge\\tenter-01\\tARG0\\tyou\\t2\\t1\\t\\n# ::edge\\tenter-01\\tARG1\\tkitchen\\t2\\t3\\t\\n# ::short\\t{1: 'y', 2: 'e', 3: 'k'}\\t\\n(e / enter-01\\n      :ARG0 (y / you)\\n      :ARG1 (k / kitchen))\\n\\n\", 'pb_vn_mappings': {'enter.01': [{'mapping': 'escape-51.1-1-2', 'source': 'verbnet3.4'}]}, 'role_mappings': {'enter.01': {':ARG0': [{'vncls': '51.1-2', 'vntheta': 'theme', 'description': 'entity entering'}], ':ARG1': [{'vncls': '51.1-2', 'vntheta': 'destination', 'description': 'place or thing entered'}]}}, 'amr_cal': [{'predicate': 'enter-01', 'arguments': ['e'], 'is_negative': False}, {'predicate': 'you', 'arguments': ['y'], 'is_negative': False}, {'predicate': 'kitchen', 'arguments': ['k'], 'is_negative': False}, {'predicate': 'enter-01.arg0', 'arguments': ['e', 'y'], 'is_negative': False}, {'predicate': 'enter-01.arg1', 'arguments': ['e', 'k'], 'is_negative': False}], 'sem_cal': {'enter.01': {'escape-51.1-1-2': [{'predicate': 'HAS_LOCATION', 'arguments': ['e1', 'Theme', '?Initial_Location'], 'is_negative': False}, {'predicate': 'MOTION', 'arguments': ['ë2', 'Theme', '?Trajectory'], 'is_negative': False}, {'predicate': 'HAS_LOCATION', 'arguments': ['e2', 'Theme', '?Initial_Location'], 'is_negative': True}, {'predicate': 'HAS_LOCATION', 'arguments': ['e3', 'Theme', 'Destination'], 'is_negative': False}]}}, 'grounded_stmt': {'enter.01': {'escape-51.1-1-2': [[{'predicate': 'HAS_LOCATION', 'arguments': ['e1', 'y', '?Initial_Location'], 'is_negative': False}, {'predicate': 'MOTION', 'arguments': ['ë2', 'y', '?Trajectory'], 'is_negative': False}, {'predicate': 'HAS_LOCATION', 'arguments': ['e2', 'y', '?Initial_Location'], 'is_negative': True}, {'predicate': 'HAS_LOCATION', 'arguments': ['e3', 'y', 'k'], 'is_negative': False}]]}}, 'amr_cal_str': '[enter-01(e), you(y), kitchen(k), enter-01.arg0(e, y), enter-01.arg1(e, k)]', 'sem_cal_str': \"{'enter.01': {'escape-51.1-1-2': [HAS_LOCATION(e1, Theme, ?Initial_Location), MOTION(ë2, Theme, ?Trajectory), NOT(HAS_LOCATION(e2, Theme, ?Initial_Location)), HAS_LOCATION(e3, Theme, Destination)]}}\", 'grounded_stmt_str': \"{'enter.01': {'escape-51.1-1-2': [[HAS_LOCATION(e1, y, ?Initial_Location), MOTION(ë2, y, ?Trajectory), NOT(HAS_LOCATION(e2, y, ?Initial_Location)), HAS_LOCATION(e3, y, k)]]}}\"}]}\n"
     ]
    }
   ],
   "source": [
    "start = time.time()\n",
    "ret = ground_text_to_verbnet(\"You enter a kitchen.\")\n",
    "print(f'finish with {time.time()-start:.3f} seconds')\n",
    "\n",
    "print('***' * 10)\n",
    "print(ret)"
   ]
  },
  {
   "cell_type": "code",
   "execution_count": 5,
   "metadata": {},
   "outputs": [
    {
     "name": "stdout",
     "output_type": "stream",
     "text": [
      "parsing ...\n",
      "\n",
      "text:\n",
      " You see a dishwasher and a fridge.\n",
      "\n",
      "sentences:\n",
      "==> You see a dishwasher and a fridge.\n",
      "\n",
      "coreference:\n",
      " []\n",
      "\n",
      "ori_amr_cal: [see-01(s), you(y), and(a), dishwasher(d), fridge(f), see-01.arg0(s, y), see-01.arg1(s, a), and.op1(a, d), and.op2(a, f)]\n",
      "arg_map: {'see.01': {'s': {':ARG0': 'y', ':ARG1': 'a'}}, 'and': {'a': {':op1': 'd', ':op2': 'f'}}}\n",
      "query_propbank_roles for propbank_id see.01\n",
      "role_mappings: {'see.01': {':ARG0': [{'vncls': '29.2-1', 'vntheta': 'agent', 'description': 'viewer'}, {'vncls': '30.1-1', 'vntheta': 'experiencer', 'description': 'viewer'}, {'vncls': '29.9-1-1', 'vntheta': 'agent', 'description': 'viewer'}], ':ARG1': [{'vncls': '29.2-1', 'vntheta': 'theme', 'description': 'thing viewed'}, {'vncls': '30.1-1', 'vntheta': 'stimulus', 'description': 'thing viewed'}, {'vncls': '29.9-1-1', 'vntheta': 'theme', 'description': 'thing viewed'}], ':ARG2': [{'vncls': '29.2-1', 'vntheta': 'attribute', 'description': 'attribute of arg1, further description'}, {'vncls': '29.9-1-1', 'vntheta': 'attribute', 'description': 'attribute of arg1, further description'}]}}\n",
      "\n",
      "amr_cal: [see-01(s), you(y), dishwasher(d), fridge(f), see-01.arg0(s, y), see-01.arg1(s, d), see-01.arg1(s, f)]\n",
      "\n",
      "sem_cal: {'see.01': {'see-30.1-1': [PERCEIVE(e1, Experiencer, Stimulus), IN_REACTION_TO(e1, Stimulus)]}}\n",
      "\n",
      "grounded_stmt: {'see.01': {'see-30.1-1': [[PERCEIVE(e1, y, d), IN_REACTION_TO(e1, d), PERCEIVE(e1, y, f), IN_REACTION_TO(e1, f)]]}}\n",
      "finish with 0.805 seconds\n",
      "******************************\n",
      "{'coreference': [], 'sentence_parses': [{'text': 'You see a dishwasher and a fridge.', 'amr': \"# ::tok You see a dishwasher and a fridge . <ROOT>\\n# ::node\\t1\\tyou\\t0-1\\n# ::node\\t2\\tsee-01\\t1-2\\n# ::node\\t3\\tdishwasher\\t3-4\\n# ::node\\t4\\tand\\t4-5\\n# ::node\\t5\\tfridge\\t6-7\\n# ::root\\t2\\tsee-01\\n# ::edge\\tsee-01\\tARG0\\tyou\\t2\\t1\\t\\n# ::edge\\tand\\top1\\tdishwasher\\t4\\t3\\t\\n# ::edge\\tsee-01\\tARG1\\tand\\t2\\t4\\t\\n# ::edge\\tand\\top2\\tfridge\\t4\\t5\\t\\n# ::short\\t{1: 'y', 2: 's', 3: 'd', 4: 'a', 5: 'f'}\\t\\n(s / see-01\\n      :ARG0 (y / you)\\n      :ARG1 (a / and\\n            :op1 (d / dishwasher)\\n            :op2 (f / fridge)))\\n\\n\", 'pb_vn_mappings': {'see.01': [{'mapping': 'see-30.1-1', 'source': 'verbnet3.4'}]}, 'role_mappings': {'see.01': {':ARG0': [{'vncls': '29.2-1', 'vntheta': 'agent', 'description': 'viewer'}, {'vncls': '30.1-1', 'vntheta': 'experiencer', 'description': 'viewer'}, {'vncls': '29.9-1-1', 'vntheta': 'agent', 'description': 'viewer'}], ':ARG1': [{'vncls': '29.2-1', 'vntheta': 'theme', 'description': 'thing viewed'}, {'vncls': '30.1-1', 'vntheta': 'stimulus', 'description': 'thing viewed'}, {'vncls': '29.9-1-1', 'vntheta': 'theme', 'description': 'thing viewed'}], ':ARG2': [{'vncls': '29.2-1', 'vntheta': 'attribute', 'description': 'attribute of arg1, further description'}, {'vncls': '29.9-1-1', 'vntheta': 'attribute', 'description': 'attribute of arg1, further description'}]}}, 'amr_cal': [{'predicate': 'see-01', 'arguments': ['s'], 'is_negative': False}, {'predicate': 'you', 'arguments': ['y'], 'is_negative': False}, {'predicate': 'dishwasher', 'arguments': ['d'], 'is_negative': False}, {'predicate': 'fridge', 'arguments': ['f'], 'is_negative': False}, {'predicate': 'see-01.arg0', 'arguments': ['s', 'y'], 'is_negative': False}, {'predicate': 'see-01.arg1', 'arguments': ['s', 'd'], 'is_negative': False}, {'predicate': 'see-01.arg1', 'arguments': ['s', 'f'], 'is_negative': False}], 'sem_cal': {'see.01': {'see-30.1-1': [{'predicate': 'PERCEIVE', 'arguments': ['e1', 'Experiencer', 'Stimulus'], 'is_negative': False}, {'predicate': 'IN_REACTION_TO', 'arguments': ['e1', 'Stimulus'], 'is_negative': False}]}}, 'grounded_stmt': {'see.01': {'see-30.1-1': [[{'predicate': 'PERCEIVE', 'arguments': ['e1', 'y', 'd'], 'is_negative': False}, {'predicate': 'IN_REACTION_TO', 'arguments': ['e1', 'd'], 'is_negative': False}, {'predicate': 'PERCEIVE', 'arguments': ['e1', 'y', 'f'], 'is_negative': False}, {'predicate': 'IN_REACTION_TO', 'arguments': ['e1', 'f'], 'is_negative': False}]]}}, 'amr_cal_str': '[see-01(s), you(y), dishwasher(d), fridge(f), see-01.arg0(s, y), see-01.arg1(s, d), see-01.arg1(s, f)]', 'sem_cal_str': \"{'see.01': {'see-30.1-1': [PERCEIVE(e1, Experiencer, Stimulus), IN_REACTION_TO(e1, Stimulus)]}}\", 'grounded_stmt_str': \"{'see.01': {'see-30.1-1': [[PERCEIVE(e1, y, d), IN_REACTION_TO(e1, d), PERCEIVE(e1, y, f), IN_REACTION_TO(e1, f)]]}}\"}]}\n"
     ]
    }
   ],
   "source": [
    "start = time.time()\n",
    "ret = ground_text_to_verbnet(\"You see a dishwasher and a fridge.\")\n",
    "print(f'finish with {time.time()-start:.3f} seconds')\n",
    "\n",
    "print('***' * 10)\n",
    "print(ret)"
   ]
  },
  {
   "cell_type": "code",
   "execution_count": null,
   "metadata": {},
   "outputs": [],
   "source": []
  }
 ],
 "metadata": {
  "kernelspec": {
   "display_name": "venv",
   "language": "python",
   "name": "venv"
  },
  "language_info": {
   "codemirror_mode": {
    "name": "ipython",
    "version": 3
   },
   "file_extension": ".py",
   "mimetype": "text/x-python",
   "name": "python",
   "nbconvert_exporter": "python",
   "pygments_lexer": "ipython3",
   "version": "3.7.11"
  }
 },
 "nbformat": 4,
 "nbformat_minor": 5
}
